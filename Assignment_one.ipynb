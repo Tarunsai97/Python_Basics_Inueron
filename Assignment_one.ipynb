{
 "cells": [
  {
   "cell_type": "markdown",
   "metadata": {},
   "source": [
    "\n",
    "1. Write a program which will find all such numbers which are divisble by 7 not  a multiple of 5 between 2000 nd 3200. The numbers obtained should be printed in a comma seperated sequence on a single line."
   ]
  },
  {
   "cell_type": "code",
   "execution_count": 1,
   "metadata": {},
   "outputs": [
    {
     "name": "stdout",
     "output_type": "stream",
     "text": [
      "2002,2009,2016,2023,2037,2044,2051,2058,2072,2079,2086,2093,2107,2114,2121,2128,2142,2149,2156,2163,2177,2184,2191,2198,2212,2219,2226,2233,2247,2254,2261,2268,2282,2289,2296,2303,2317,2324,2331,2338,2352,2359,2366,2373,2387,2394,2401,2408,2422,2429,2436,2443,2457,2464,2471,2478,2492,2499,2506,2513,2527,2534,2541,2548,2562,2569,2576,2583,2597,2604,2611,2618,2632,2639,2646,2653,2667,2674,2681,2688,2702,2709,2716,2723,2737,2744,2751,2758,2772,2779,2786,2793,2807,2814,2821,2828,2842,2849,2856,2863,2877,2884,2891,2898,2912,2919,2926,2933,2947,2954,2961,2968,2982,2989,2996,3003,3017,3024,3031,3038,3052,3059,3066,3073,3087,3094,3101,3108,3122,3129,3136,3143,3157,3164,3171,3178,3192,3199,"
     ]
    }
   ],
   "source": [
    "for i in range(2000,3201):\n",
    "    if(i%7==0):\n",
    "        if(i%5!=0):\n",
    "            print(i,end=\",\")"
   ]
  },
  {
   "cell_type": "markdown",
   "metadata": {},
   "source": [
    "2. Write a program to accept the users first and last name and then getting them printed in the reverse order with space between first name and last name"
   ]
  },
  {
   "cell_type": "code",
   "execution_count": 3,
   "metadata": {},
   "outputs": [
    {
     "name": "stdout",
     "output_type": "stream",
     "text": [
      "Enter the first nametarun\n",
      "Enter the last name sai\n",
      "sai tarun\n"
     ]
    }
   ],
   "source": [
    "first_name = str(input('Enter the first name'))\n",
    "last_name = str(input(\"Enter the last name \"))\n",
    "\n",
    "print('{} {}'.format(last_name,first_name))"
   ]
  },
  {
   "cell_type": "markdown",
   "metadata": {},
   "source": [
    "3. Write a Python Program to find the volume of a sphere with diameter 12cm"
   ]
  },
  {
   "cell_type": "code",
   "execution_count": 4,
   "metadata": {},
   "outputs": [
    {
     "name": "stdout",
     "output_type": "stream",
     "text": [
      "Volume of sphere with diameter 12 is 904.7786842338603\n"
     ]
    }
   ],
   "source": [
    "import math\n",
    "\n",
    "# Volume formula v= 4/3*pi*r^3\n",
    "# With diameter d = 2r => r=d/2 replace r with d/2\n",
    "# new formula v = 1/6*pi*d^3\n",
    "\n",
    "v = (1/6)*math.pi*(12**3)\n",
    "\n",
    "print(\"Volume of sphere with diameter 12 is {}\".format(v))"
   ]
  },
  {
   "cell_type": "markdown",
   "metadata": {},
   "source": [
    "4. Write a program which accepts a sequence of comma-separated numbers from console and generate a list"
   ]
  },
  {
   "cell_type": "code",
   "execution_count": 5,
   "metadata": {},
   "outputs": [
    {
     "name": "stdout",
     "output_type": "stream",
     "text": [
      "Enter comma seperated values1.'tarun','kiran'\n",
      "The list is [\"1.'tarun'\", \"'kiran'\"]\n"
     ]
    }
   ],
   "source": [
    "data = input(\"Enter comma seperated values\")\n",
    "\n",
    "list1 = data.split(',')\n",
    "\n",
    "print(\"The list is {}\".format(list1))"
   ]
  },
  {
   "cell_type": "code",
   "execution_count": 23,
   "metadata": {},
   "outputs": [
    {
     "name": "stdout",
     "output_type": "stream",
     "text": [
      "* \n",
      "* * \n",
      "* * * \n",
      "* * * * \n",
      "* * * * * \n",
      "* * * * \n",
      "* * * \n",
      "* * \n",
      "* \n",
      "\n"
     ]
    }
   ],
   "source": [
    "# 5. Printing the stars\n",
    "\n",
    "for i in range(1,6):\n",
    "    for _ in range(1,i+1):\n",
    "        print(\"*\",end=\" \")\n",
    "    print()\n",
    "for i in range(1,6):\n",
    "    for _ in range(1,6-i):\n",
    "        print(\"*\",end=\" \")\n",
    "    print()"
   ]
  },
  {
   "cell_type": "code",
   "execution_count": 28,
   "metadata": {},
   "outputs": [
    {
     "name": "stdout",
     "output_type": "stream",
     "text": [
      "Enter a string :Inueuron\n",
      "norueunI\n"
     ]
    }
   ],
   "source": [
    "#6. Write a program to reverse a string\n",
    "\n",
    "str1 = str(input(\"Enter a string :\"))\n",
    "\n",
    "str2=\"\"\n",
    "\n",
    "for i in range(1,len(str1)+1):\n",
    "    str2=str2+str1[len(str1)-i]\n",
    "print(str2)\n",
    "        \n"
   ]
  },
  {
   "cell_type": "code",
   "execution_count": 39,
   "metadata": {},
   "outputs": [
    {
     "name": "stdout",
     "output_type": "stream",
     "text": [
      "WE, THE PEOPLE OF INDIA,\n",
      "      having solemnly resolved to constitute india into a SOVEREIGN, !\n",
      "\t     SOCIALIST, SECULAR, DEMCRATIC REPUBLIC\n",
      "\t      and to secure to all its citizens \n"
     ]
    }
   ],
   "source": [
    "# 7. print\n",
    "\n",
    "print(\"WE, THE PEOPLE OF INDIA,\\n      having solemnly resolved to constitute india into a SOVEREIGN, !\\n\\t     SOCIALIST, SECULAR, DEMCRATIC REPUBLIC\\n\\t      and to secure to all its citizens \")"
   ]
  },
  {
   "cell_type": "code",
   "execution_count": null,
   "metadata": {},
   "outputs": [],
   "source": []
  }
 ],
 "metadata": {
  "kernelspec": {
   "display_name": "Python 3",
   "language": "python",
   "name": "python3"
  },
  "language_info": {
   "codemirror_mode": {
    "name": "ipython",
    "version": 3
   },
   "file_extension": ".py",
   "mimetype": "text/x-python",
   "name": "python",
   "nbconvert_exporter": "python",
   "pygments_lexer": "ipython3",
   "version": "3.8.5"
  }
 },
 "nbformat": 4,
 "nbformat_minor": 4
}
