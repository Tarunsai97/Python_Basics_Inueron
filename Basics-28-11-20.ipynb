{
 "cells": [
  {
   "cell_type": "code",
   "execution_count": 1,
   "metadata": {},
   "outputs": [
    {
     "name": "stdout",
     "output_type": "stream",
     "text": [
      "Enter a First nameTarun\n",
      "Enter Last namesai\n",
      "The firstname Tarun and lastname sai\n"
     ]
    }
   ],
   "source": [
    "# printing with the format\n",
    "\n",
    "first_name = input(\"Enter a First name\")\n",
    "last_name = input(\"Enter Last name\")\n",
    "\n",
    "print(\"The first name is {} and lastname is {}\".format(first_name,last_name))"
   ]
  },
  {
   "cell_type": "code",
   "execution_count": 3,
   "metadata": {},
   "outputs": [
    {
     "name": "stdout",
     "output_type": "stream",
     "text": [
      "Enter a number 123\n",
      "Enter a number 232\n",
      "32 is big\n"
     ]
    }
   ],
   "source": [
    "## conditional statements\n",
    "## if and elif\n",
    "\n",
    "a = int(input(\"Enter a number 1\"))\n",
    "b = int(input(\"Enter a number 2\"))\n",
    "\n",
    "if a>b:\n",
    "    print(\"{} is big\".format(a))\n",
    "else:\n",
    "    print(\"{} is big\".format(b))"
   ]
  },
  {
   "cell_type": "markdown",
   "metadata": {},
   "source": [
    "#### Data structures\n",
    "\n",
    "1. list\n",
    "2. tuple\n",
    "3. string\n",
    "4. set\n",
    "5. Dictinary "
   ]
  },
  {
   "cell_type": "code",
   "execution_count": 4,
   "metadata": {},
   "outputs": [
    {
     "data": {
      "text/plain": [
       "[1, 2, 3, 'tarun', 'sai']"
      ]
     },
     "execution_count": 4,
     "metadata": {},
     "output_type": "execute_result"
    }
   ],
   "source": [
    "#list is a collection of homogenous and hetrogenous data\n",
    "\n",
    "li = [1,2,3,'tarun','sai']\n",
    "li"
   ]
  },
  {
   "cell_type": "code",
   "execution_count": null,
   "metadata": {},
   "outputs": [],
   "source": []
  }
 ],
 "metadata": {
  "kernelspec": {
   "display_name": "Python 3",
   "language": "python",
   "name": "python3"
  },
  "language_info": {
   "codemirror_mode": {
    "name": "ipython",
    "version": 3
   },
   "file_extension": ".py",
   "mimetype": "text/x-python",
   "name": "python",
   "nbconvert_exporter": "python",
   "pygments_lexer": "ipython3",
   "version": "3.8.5"
  }
 },
 "nbformat": 4,
 "nbformat_minor": 4
}
